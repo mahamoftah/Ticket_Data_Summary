{
 "cells": [
  {
   "cell_type": "code",
   "execution_count": 13,
   "id": "ddf8922d",
   "metadata": {},
   "outputs": [],
   "source": [
    "import pandas as pd"
   ]
  },
  {
   "cell_type": "code",
   "execution_count": 14,
   "id": "86db6ea5",
   "metadata": {},
   "outputs": [],
   "source": [
    "df = pd.read_csv('../data/Ticket Data.txt')"
   ]
  },
  {
   "cell_type": "code",
   "execution_count": 15,
   "id": "b40b2d86",
   "metadata": {},
   "outputs": [],
   "source": [
    "df.to_csv('../data/Ticket Data.txt', index=False, header=True)"
   ]
  },
  {
   "cell_type": "code",
   "execution_count": 17,
   "id": "4f87e1d2",
   "metadata": {},
   "outputs": [],
   "source": [
    "data = pd.read_csv('../data/Ticket Data.csv')"
   ]
  },
  {
   "cell_type": "code",
   "execution_count": 18,
   "id": "2318a7b6",
   "metadata": {},
   "outputs": [
    {
     "data": {
      "text/html": [
       "<div>\n",
       "<style scoped>\n",
       "    .dataframe tbody tr th:only-of-type {\n",
       "        vertical-align: middle;\n",
       "    }\n",
       "\n",
       "    .dataframe tbody tr th {\n",
       "        vertical-align: top;\n",
       "    }\n",
       "\n",
       "    .dataframe thead th {\n",
       "        text-align: right;\n",
       "    }\n",
       "</style>\n",
       "<table border=\"1\" class=\"dataframe\">\n",
       "  <thead>\n",
       "    <tr style=\"text-align: right;\">\n",
       "      <th></th>\n",
       "      <th>ORDER_NUMBER</th>\n",
       "      <th>ORDER_ID</th>\n",
       "      <th>ORDER_UNIT_ID</th>\n",
       "      <th>ACCEPTANCE_TIME</th>\n",
       "      <th>COMPLETION_TIME</th>\n",
       "      <th>CUSTOMER_NUMBER</th>\n",
       "      <th>CUSTOMER_COUNT</th>\n",
       "      <th>ORDER_TYPE</th>\n",
       "      <th>ORDER_CLASS</th>\n",
       "      <th>PROCESSING_STATUS</th>\n",
       "      <th>...</th>\n",
       "      <th>PROCESSING_END_TIME_MINIMUM</th>\n",
       "      <th>ACCEPTANCE_TIME_MINIMUM</th>\n",
       "      <th>ASSIGNMENT_TIME_MINIMUM</th>\n",
       "      <th>IMIL_TIME_MINIMUM</th>\n",
       "      <th>CUSTOMER_TIME_MINIMUM</th>\n",
       "      <th>START_TIME_MINIMUM</th>\n",
       "      <th>ASSIGNMENT_TIME</th>\n",
       "      <th>ASSIGNED_BY_NAME</th>\n",
       "      <th>ASSIGNMENT_PROCESSING_STATUS</th>\n",
       "      <th>ASSIGNMENT_ADDITIONAL_INFO</th>\n",
       "    </tr>\n",
       "  </thead>\n",
       "  <tbody>\n",
       "    <tr>\n",
       "      <th>0</th>\n",
       "      <td>001-0671177/24</td>\n",
       "      <td>114680574</td>\n",
       "      <td>NaN</td>\n",
       "      <td>11/05/2024 11:00</td>\n",
       "      <td>11/05/2024 11:30</td>\n",
       "      <td>123</td>\n",
       "      <td>3</td>\n",
       "      <td>Short Ticket</td>\n",
       "      <td>SK</td>\n",
       "      <td>Completed</td>\n",
       "      <td>...</td>\n",
       "      <td>11/05/2024 11:00</td>\n",
       "      <td>11/05/2024 11:00</td>\n",
       "      <td>NaN</td>\n",
       "      <td>NaN</td>\n",
       "      <td>11/05/2024 11:00</td>\n",
       "      <td>NaN</td>\n",
       "      <td>NaN</td>\n",
       "      <td>NaN</td>\n",
       "      <td>NaN</td>\n",
       "      <td>NaN</td>\n",
       "    </tr>\n",
       "    <tr>\n",
       "      <th>1</th>\n",
       "      <td>001-0682295/24</td>\n",
       "      <td>114691514</td>\n",
       "      <td>NaN</td>\n",
       "      <td>11/05/2024 13:00</td>\n",
       "      <td>11/05/2024 13:45</td>\n",
       "      <td>123</td>\n",
       "      <td>3</td>\n",
       "      <td>Short Ticket</td>\n",
       "      <td>SK</td>\n",
       "      <td>Completed</td>\n",
       "      <td>...</td>\n",
       "      <td>11/05/2024 13:00</td>\n",
       "      <td>11/05/2024 13:00</td>\n",
       "      <td>NaN</td>\n",
       "      <td>NaN</td>\n",
       "      <td>11/05/2024 13:00</td>\n",
       "      <td>NaN</td>\n",
       "      <td>NaN</td>\n",
       "      <td>NaN</td>\n",
       "      <td>NaN</td>\n",
       "      <td>NaN</td>\n",
       "    </tr>\n",
       "    <tr>\n",
       "      <th>2</th>\n",
       "      <td>001-0670952/24</td>\n",
       "      <td>114680352</td>\n",
       "      <td>NaN</td>\n",
       "      <td>11/06/2024 08:00</td>\n",
       "      <td>11/06/2024 08:30</td>\n",
       "      <td>123</td>\n",
       "      <td>3</td>\n",
       "      <td>Short Ticket</td>\n",
       "      <td>SK</td>\n",
       "      <td>Completed</td>\n",
       "      <td>...</td>\n",
       "      <td>11/06/2024 08:00</td>\n",
       "      <td>11/06/2024 08:00</td>\n",
       "      <td>NaN</td>\n",
       "      <td>NaN</td>\n",
       "      <td>11/06/2024 08:00</td>\n",
       "      <td>NaN</td>\n",
       "      <td>NaN</td>\n",
       "      <td>NaN</td>\n",
       "      <td>NaN</td>\n",
       "      <td>NaN</td>\n",
       "    </tr>\n",
       "    <tr>\n",
       "      <th>3</th>\n",
       "      <td>001-0671369/24</td>\n",
       "      <td>114680756</td>\n",
       "      <td>NaN</td>\n",
       "      <td>11/06/2024 10:00</td>\n",
       "      <td>11/06/2024 10:15</td>\n",
       "      <td>123</td>\n",
       "      <td>3</td>\n",
       "      <td>Short Ticket</td>\n",
       "      <td>SK</td>\n",
       "      <td>Completed</td>\n",
       "      <td>...</td>\n",
       "      <td>11/06/2024 10:00</td>\n",
       "      <td>11/06/2024 10:00</td>\n",
       "      <td>NaN</td>\n",
       "      <td>NaN</td>\n",
       "      <td>11/06/2024 10:00</td>\n",
       "      <td>NaN</td>\n",
       "      <td>NaN</td>\n",
       "      <td>NaN</td>\n",
       "      <td>NaN</td>\n",
       "      <td>NaN</td>\n",
       "    </tr>\n",
       "    <tr>\n",
       "      <th>4</th>\n",
       "      <td>001-0670929/24</td>\n",
       "      <td>114680329</td>\n",
       "      <td>NaN</td>\n",
       "      <td>11/06/2024 12:00</td>\n",
       "      <td>11/06/2024 13:00</td>\n",
       "      <td>123</td>\n",
       "      <td>3</td>\n",
       "      <td>Task</td>\n",
       "      <td>SK</td>\n",
       "      <td>Completed</td>\n",
       "      <td>...</td>\n",
       "      <td>11/06/2024 12:00</td>\n",
       "      <td>11/06/2024 12:00</td>\n",
       "      <td>NaN</td>\n",
       "      <td>NaN</td>\n",
       "      <td>11/06/2024 12:00</td>\n",
       "      <td>NaN</td>\n",
       "      <td>NaN</td>\n",
       "      <td>NaN</td>\n",
       "      <td>NaN</td>\n",
       "      <td>NaN</td>\n",
       "    </tr>\n",
       "  </tbody>\n",
       "</table>\n",
       "<p>5 rows × 38 columns</p>\n",
       "</div>"
      ],
      "text/plain": [
       "     ORDER_NUMBER   ORDER_ID  ORDER_UNIT_ID   ACCEPTANCE_TIME  \\\n",
       "0  001-0671177/24  114680574            NaN  11/05/2024 11:00   \n",
       "1  001-0682295/24  114691514            NaN  11/05/2024 13:00   \n",
       "2  001-0670952/24  114680352            NaN  11/06/2024 08:00   \n",
       "3  001-0671369/24  114680756            NaN  11/06/2024 10:00   \n",
       "4  001-0670929/24  114680329            NaN  11/06/2024 12:00   \n",
       "\n",
       "    COMPLETION_TIME  CUSTOMER_NUMBER  CUSTOMER_COUNT    ORDER_TYPE  \\\n",
       "0  11/05/2024 11:30              123               3  Short Ticket   \n",
       "1  11/05/2024 13:45              123               3  Short Ticket   \n",
       "2  11/06/2024 08:30              123               3  Short Ticket   \n",
       "3  11/06/2024 10:15              123               3  Short Ticket   \n",
       "4  11/06/2024 13:00              123               3          Task   \n",
       "\n",
       "  ORDER_CLASS PROCESSING_STATUS  ... PROCESSING_END_TIME_MINIMUM  \\\n",
       "0          SK         Completed  ...            11/05/2024 11:00   \n",
       "1          SK         Completed  ...            11/05/2024 13:00   \n",
       "2          SK         Completed  ...            11/06/2024 08:00   \n",
       "3          SK         Completed  ...            11/06/2024 10:00   \n",
       "4          SK         Completed  ...            11/06/2024 12:00   \n",
       "\n",
       "  ACCEPTANCE_TIME_MINIMUM ASSIGNMENT_TIME_MINIMUM IMIL_TIME_MINIMUM  \\\n",
       "0        11/05/2024 11:00                     NaN               NaN   \n",
       "1        11/05/2024 13:00                     NaN               NaN   \n",
       "2        11/06/2024 08:00                     NaN               NaN   \n",
       "3        11/06/2024 10:00                     NaN               NaN   \n",
       "4        11/06/2024 12:00                     NaN               NaN   \n",
       "\n",
       "  CUSTOMER_TIME_MINIMUM START_TIME_MINIMUM ASSIGNMENT_TIME ASSIGNED_BY_NAME  \\\n",
       "0      11/05/2024 11:00                NaN             NaN              NaN   \n",
       "1      11/05/2024 13:00                NaN             NaN              NaN   \n",
       "2      11/06/2024 08:00                NaN             NaN              NaN   \n",
       "3      11/06/2024 10:00                NaN             NaN              NaN   \n",
       "4      11/06/2024 12:00                NaN             NaN              NaN   \n",
       "\n",
       "  ASSIGNMENT_PROCESSING_STATUS ASSIGNMENT_ADDITIONAL_INFO  \n",
       "0                          NaN                        NaN  \n",
       "1                          NaN                        NaN  \n",
       "2                          NaN                        NaN  \n",
       "3                          NaN                        NaN  \n",
       "4                          NaN                        NaN  \n",
       "\n",
       "[5 rows x 38 columns]"
      ]
     },
     "execution_count": 18,
     "metadata": {},
     "output_type": "execute_result"
    }
   ],
   "source": [
    "data.head()"
   ]
  },
  {
   "cell_type": "code",
   "execution_count": 19,
   "id": "107d59b6",
   "metadata": {},
   "outputs": [
    {
     "data": {
      "text/plain": [
       "Index(['ORDER_NUMBER', 'ORDER_ID', 'ORDER_UNIT_ID', 'ACCEPTANCE_TIME',\n",
       "       'COMPLETION_TIME', 'CUSTOMER_NUMBER', 'CUSTOMER_COUNT', 'ORDER_TYPE',\n",
       "       'ORDER_CLASS', 'PROCESSING_STATUS', 'SERVICE_CATEGORY',\n",
       "       'ORDER_DESCRIPTION_1', 'ORDER_DESCRIPTION_2',\n",
       "       'ORDER_DESCRIPTION_3_MAXIMUM', 'ADDITIONAL_ORDER_DESCRIPTION_MAXIMUM',\n",
       "       'NOTE_MAXIMUM', 'PLANNING_GROUP_KB', 'COMPLETION_RESULT_KB',\n",
       "       'REFERENCE_COMPLETION_RESULT', 'COMPLETION_NOTE_MAXIMUM',\n",
       "       'NETWORK_LEVEL', 'CAUSE', 'REFERENCE_ERROR_CAUSE', 'SERVICE_PROVIDER',\n",
       "       'REFERENCE_SERVICE_PROVIDER', 'SUBUNIT_NAME',\n",
       "       'CUSTOMER_COMPLETION_TIME', 'PROCESSING_END_TIME_MAXIMUM',\n",
       "       'PROCESSING_END_TIME_MINIMUM', 'ACCEPTANCE_TIME_MINIMUM',\n",
       "       'ASSIGNMENT_TIME_MINIMUM', 'IMIL_TIME_MINIMUM', 'CUSTOMER_TIME_MINIMUM',\n",
       "       'START_TIME_MINIMUM', 'ASSIGNMENT_TIME', 'ASSIGNED_BY_NAME',\n",
       "       'ASSIGNMENT_PROCESSING_STATUS', 'ASSIGNMENT_ADDITIONAL_INFO'],\n",
       "      dtype='object')"
      ]
     },
     "execution_count": 19,
     "metadata": {},
     "output_type": "execute_result"
    }
   ],
   "source": [
    "data.columns"
   ]
  },
  {
   "cell_type": "code",
   "execution_count": 20,
   "id": "69ccf845",
   "metadata": {},
   "outputs": [
    {
     "data": {
      "text/plain": [
       "(42, 38)"
      ]
     },
     "execution_count": 20,
     "metadata": {},
     "output_type": "execute_result"
    }
   ],
   "source": [
    "data.shape"
   ]
  },
  {
   "cell_type": "code",
   "execution_count": 21,
   "id": "f9e0699b",
   "metadata": {},
   "outputs": [
    {
     "data": {
      "text/plain": [
       "0    HDW\n",
       "1    NTF\n",
       "2    HDW\n",
       "3    HDW\n",
       "4    SOP\n",
       "Name: SERVICE_CATEGORY, dtype: object"
      ]
     },
     "execution_count": 21,
     "metadata": {},
     "output_type": "execute_result"
    }
   ],
   "source": [
    "data['SERVICE_CATEGORY'].head()"
   ]
  },
  {
   "cell_type": "code",
   "execution_count": 22,
   "id": "ce360cb9",
   "metadata": {},
   "outputs": [
    {
     "data": {
      "text/plain": [
       "array([123, 456, 789], dtype=int64)"
      ]
     },
     "execution_count": 22,
     "metadata": {},
     "output_type": "execute_result"
    }
   ],
   "source": [
    "data['CUSTOMER_NUMBER'].unique()"
   ]
  },
  {
   "cell_type": "code",
   "execution_count": 23,
   "id": "87ecc7a0",
   "metadata": {},
   "outputs": [
    {
     "data": {
      "text/plain": [
       "CUSTOMER_NUMBER\n",
       "123    14\n",
       "456    14\n",
       "789    14\n",
       "dtype: int64"
      ]
     },
     "execution_count": 23,
     "metadata": {},
     "output_type": "execute_result"
    }
   ],
   "source": [
    "data.groupby('CUSTOMER_NUMBER').size()"
   ]
  },
  {
   "cell_type": "code",
   "execution_count": 24,
   "id": "b1e4a4f2",
   "metadata": {},
   "outputs": [
    {
     "data": {
      "text/plain": [
       "array([3, 4, 2], dtype=int64)"
      ]
     },
     "execution_count": 24,
     "metadata": {},
     "output_type": "execute_result"
    }
   ],
   "source": [
    "data['CUSTOMER_COUNT'].unique()"
   ]
  },
  {
   "cell_type": "code",
   "execution_count": 25,
   "id": "eef07f3d",
   "metadata": {},
   "outputs": [
    {
     "data": {
      "text/plain": [
       "array([3], dtype=int64)"
      ]
     },
     "execution_count": 25,
     "metadata": {},
     "output_type": "execute_result"
    }
   ],
   "source": [
    "data[data['CUSTOMER_NUMBER'] == 123]['CUSTOMER_COUNT'].unique()"
   ]
  },
  {
   "cell_type": "code",
   "execution_count": 26,
   "id": "9d124022",
   "metadata": {},
   "outputs": [
    {
     "data": {
      "text/plain": [
       "array([4], dtype=int64)"
      ]
     },
     "execution_count": 26,
     "metadata": {},
     "output_type": "execute_result"
    }
   ],
   "source": [
    "data[data['CUSTOMER_NUMBER'] == 456]['CUSTOMER_COUNT'].unique()"
   ]
  },
  {
   "cell_type": "code",
   "execution_count": 27,
   "id": "5d8c1743",
   "metadata": {},
   "outputs": [
    {
     "data": {
      "text/plain": [
       "array([2], dtype=int64)"
      ]
     },
     "execution_count": 27,
     "metadata": {},
     "output_type": "execute_result"
    }
   ],
   "source": [
    "data[data['CUSTOMER_NUMBER'] == 789]['CUSTOMER_COUNT'].unique()"
   ]
  },
  {
   "cell_type": "code",
   "execution_count": 28,
   "id": "8a6c7a6e",
   "metadata": {},
   "outputs": [
    {
     "data": {
      "text/plain": [
       "array(['HDW', 'NTF', 'SOP', 'NET', 'KAI', 'KAV', 'GIGA', 'VOD', 'KAD'],\n",
       "      dtype=object)"
      ]
     },
     "execution_count": 28,
     "metadata": {},
     "output_type": "execute_result"
    }
   ],
   "source": [
    "data[data['CUSTOMER_NUMBER'] == 123]['SERVICE_CATEGORY'].unique()"
   ]
  },
  {
   "cell_type": "markdown",
   "id": "3de709f9",
   "metadata": {},
   "source": [
    "**Note**\n",
    "- I'm not sure but i thought that customer number is the identifier of customer, although the identifier will actually not be just such a simple number, but that would make me adapt these thoughts:\n",
    "    - the tickets belong to **three** different customers, each one applied for 14 tickets\n",
    "    - and should to tell the story of what happened for each customer of those three per category, If i understand well.\n",
    "- But during the reading of task file, i read that this data is related to a specific customer, so i supposed that all tickets belong to one customer. And for sure the customer number and count have a description which i have no idea about."
   ]
  },
  {
   "cell_type": "code",
   "execution_count": 29,
   "id": "1f8c3c7c",
   "metadata": {},
   "outputs": [
    {
     "data": {
      "text/plain": [
       "array(['SK'], dtype=object)"
      ]
     },
     "execution_count": 29,
     "metadata": {},
     "output_type": "execute_result"
    }
   ],
   "source": [
    "data['ORDER_CLASS'].unique()"
   ]
  },
  {
   "cell_type": "markdown",
   "id": "4c76a5d3",
   "metadata": {},
   "source": [
    "## **Preproccessing**"
   ]
  },
  {
   "cell_type": "code",
   "execution_count": 30,
   "id": "4e9c7cba",
   "metadata": {},
   "outputs": [],
   "source": [
    "filtered_data = data.copy()"
   ]
  },
  {
   "cell_type": "code",
   "execution_count": 31,
   "id": "76fb4578",
   "metadata": {},
   "outputs": [],
   "source": [
    "filtered_data = filtered_data[filtered_data['SERVICE_CATEGORY'].isin(['HDW', 'NET', 'KAI', 'KAV', 'GIGA', 'VOD', 'KAD'])]"
   ]
  },
  {
   "cell_type": "code",
   "execution_count": 32,
   "id": "d79da12d",
   "metadata": {},
   "outputs": [
    {
     "data": {
      "text/plain": [
       "(32, 38)"
      ]
     },
     "execution_count": 32,
     "metadata": {},
     "output_type": "execute_result"
    }
   ],
   "source": [
    "filtered_data.shape"
   ]
  },
  {
   "cell_type": "code",
   "execution_count": 33,
   "id": "7c8ecbbb",
   "metadata": {},
   "outputs": [
    {
     "data": {
      "text/plain": [
       "0    HDW\n",
       "2    HDW\n",
       "3    HDW\n",
       "6    HDW\n",
       "8    HDW\n",
       "Name: SERVICE_CATEGORY, dtype: object"
      ]
     },
     "execution_count": 33,
     "metadata": {},
     "output_type": "execute_result"
    }
   ],
   "source": [
    "filtered_data['SERVICE_CATEGORY'].head()"
   ]
  },
  {
   "cell_type": "code",
   "execution_count": 34,
   "id": "c8afce98",
   "metadata": {},
   "outputs": [],
   "source": [
    "category_product_mapper = {\n",
    "    'KAI': 'Broadband',\n",
    "    'NET': 'Broadband',\n",
    "    'KAV': 'Voice',\n",
    "    'KAD': 'TV',\n",
    "    'GIGA': 'GIGA',\n",
    "    'VOD': 'VOD',\n",
    "    'HDW': 'Hardware'\n",
    "}"
   ]
  },
  {
   "cell_type": "code",
   "execution_count": 35,
   "id": "57391b47",
   "metadata": {},
   "outputs": [],
   "source": [
    "filtered_data['PRODUCT'] = filtered_data['SERVICE_CATEGORY'].map(category_product_mapper)"
   ]
  },
  {
   "cell_type": "code",
   "execution_count": 36,
   "id": "cf5cdfb1",
   "metadata": {},
   "outputs": [
    {
     "name": "stdout",
     "output_type": "stream",
     "text": [
      "['HDW' 'NET' 'KAI' 'KAV' 'GIGA' 'VOD' 'KAD']\n"
     ]
    }
   ],
   "source": [
    "print(filtered_data['SERVICE_CATEGORY'].unique())"
   ]
  },
  {
   "cell_type": "code",
   "execution_count": 37,
   "id": "37ee57c6",
   "metadata": {},
   "outputs": [
    {
     "name": "stdout",
     "output_type": "stream",
     "text": [
      "['Hardware' 'Broadband' 'Voice' 'GIGA' 'VOD' 'TV']\n"
     ]
    }
   ],
   "source": [
    "print(filtered_data['PRODUCT'].unique())\n"
   ]
  },
  {
   "cell_type": "code",
   "execution_count": 40,
   "id": "349324a6",
   "metadata": {},
   "outputs": [
    {
     "data": {
      "text/html": [
       "<div>\n",
       "<style scoped>\n",
       "    .dataframe tbody tr th:only-of-type {\n",
       "        vertical-align: middle;\n",
       "    }\n",
       "\n",
       "    .dataframe tbody tr th {\n",
       "        vertical-align: top;\n",
       "    }\n",
       "\n",
       "    .dataframe thead th {\n",
       "        text-align: right;\n",
       "    }\n",
       "</style>\n",
       "<table border=\"1\" class=\"dataframe\">\n",
       "  <thead>\n",
       "    <tr style=\"text-align: right;\">\n",
       "      <th></th>\n",
       "      <th>ORDER_NUMBER</th>\n",
       "      <th>ORDER_ID</th>\n",
       "      <th>ORDER_UNIT_ID</th>\n",
       "      <th>ACCEPTANCE_TIME</th>\n",
       "      <th>COMPLETION_TIME</th>\n",
       "      <th>CUSTOMER_NUMBER</th>\n",
       "      <th>CUSTOMER_COUNT</th>\n",
       "      <th>ORDER_TYPE</th>\n",
       "      <th>ORDER_CLASS</th>\n",
       "      <th>PROCESSING_STATUS</th>\n",
       "      <th>...</th>\n",
       "      <th>ACCEPTANCE_TIME_MINIMUM</th>\n",
       "      <th>ASSIGNMENT_TIME_MINIMUM</th>\n",
       "      <th>IMIL_TIME_MINIMUM</th>\n",
       "      <th>CUSTOMER_TIME_MINIMUM</th>\n",
       "      <th>START_TIME_MINIMUM</th>\n",
       "      <th>ASSIGNMENT_TIME</th>\n",
       "      <th>ASSIGNED_BY_NAME</th>\n",
       "      <th>ASSIGNMENT_PROCESSING_STATUS</th>\n",
       "      <th>ASSIGNMENT_ADDITIONAL_INFO</th>\n",
       "      <th>PRODUCT</th>\n",
       "    </tr>\n",
       "  </thead>\n",
       "  <tbody>\n",
       "    <tr>\n",
       "      <th>0</th>\n",
       "      <td>001-0671177/24</td>\n",
       "      <td>114680574</td>\n",
       "      <td>NaN</td>\n",
       "      <td>11/05/2024 11:00</td>\n",
       "      <td>11/05/2024 11:30</td>\n",
       "      <td>123</td>\n",
       "      <td>3</td>\n",
       "      <td>Short Ticket</td>\n",
       "      <td>SK</td>\n",
       "      <td>Completed</td>\n",
       "      <td>...</td>\n",
       "      <td>11/05/2024 11:00</td>\n",
       "      <td>NaN</td>\n",
       "      <td>NaN</td>\n",
       "      <td>11/05/2024 11:00</td>\n",
       "      <td>NaN</td>\n",
       "      <td>NaN</td>\n",
       "      <td>NaN</td>\n",
       "      <td>NaN</td>\n",
       "      <td>NaN</td>\n",
       "      <td>Hardware</td>\n",
       "    </tr>\n",
       "    <tr>\n",
       "      <th>2</th>\n",
       "      <td>001-0670952/24</td>\n",
       "      <td>114680352</td>\n",
       "      <td>NaN</td>\n",
       "      <td>11/06/2024 08:00</td>\n",
       "      <td>11/06/2024 08:30</td>\n",
       "      <td>123</td>\n",
       "      <td>3</td>\n",
       "      <td>Short Ticket</td>\n",
       "      <td>SK</td>\n",
       "      <td>Completed</td>\n",
       "      <td>...</td>\n",
       "      <td>11/06/2024 08:00</td>\n",
       "      <td>NaN</td>\n",
       "      <td>NaN</td>\n",
       "      <td>11/06/2024 08:00</td>\n",
       "      <td>NaN</td>\n",
       "      <td>NaN</td>\n",
       "      <td>NaN</td>\n",
       "      <td>NaN</td>\n",
       "      <td>NaN</td>\n",
       "      <td>Hardware</td>\n",
       "    </tr>\n",
       "    <tr>\n",
       "      <th>3</th>\n",
       "      <td>001-0671369/24</td>\n",
       "      <td>114680756</td>\n",
       "      <td>NaN</td>\n",
       "      <td>11/06/2024 10:00</td>\n",
       "      <td>11/06/2024 10:15</td>\n",
       "      <td>123</td>\n",
       "      <td>3</td>\n",
       "      <td>Short Ticket</td>\n",
       "      <td>SK</td>\n",
       "      <td>Completed</td>\n",
       "      <td>...</td>\n",
       "      <td>11/06/2024 10:00</td>\n",
       "      <td>NaN</td>\n",
       "      <td>NaN</td>\n",
       "      <td>11/06/2024 10:00</td>\n",
       "      <td>NaN</td>\n",
       "      <td>NaN</td>\n",
       "      <td>NaN</td>\n",
       "      <td>NaN</td>\n",
       "      <td>NaN</td>\n",
       "      <td>Hardware</td>\n",
       "    </tr>\n",
       "    <tr>\n",
       "      <th>6</th>\n",
       "      <td>001-0671178/24</td>\n",
       "      <td>114680575</td>\n",
       "      <td>NaN</td>\n",
       "      <td>11/07/2024 11:00</td>\n",
       "      <td>11/07/2024 11:30</td>\n",
       "      <td>123</td>\n",
       "      <td>3</td>\n",
       "      <td>Short Ticket</td>\n",
       "      <td>SK</td>\n",
       "      <td>Completed</td>\n",
       "      <td>...</td>\n",
       "      <td>11/07/2024 11:00</td>\n",
       "      <td>NaN</td>\n",
       "      <td>NaN</td>\n",
       "      <td>11/07/2024 11:00</td>\n",
       "      <td>NaN</td>\n",
       "      <td>NaN</td>\n",
       "      <td>NaN</td>\n",
       "      <td>NaN</td>\n",
       "      <td>NaN</td>\n",
       "      <td>Hardware</td>\n",
       "    </tr>\n",
       "    <tr>\n",
       "      <th>8</th>\n",
       "      <td>001-0670953/24</td>\n",
       "      <td>114680353</td>\n",
       "      <td>NaN</td>\n",
       "      <td>11/08/2024 10:00</td>\n",
       "      <td>11/08/2024 10:30</td>\n",
       "      <td>456</td>\n",
       "      <td>4</td>\n",
       "      <td>Short Ticket</td>\n",
       "      <td>SK</td>\n",
       "      <td>Completed</td>\n",
       "      <td>...</td>\n",
       "      <td>11/08/2024 10:00</td>\n",
       "      <td>NaN</td>\n",
       "      <td>NaN</td>\n",
       "      <td>11/08/2024 10:00</td>\n",
       "      <td>NaN</td>\n",
       "      <td>NaN</td>\n",
       "      <td>NaN</td>\n",
       "      <td>NaN</td>\n",
       "      <td>NaN</td>\n",
       "      <td>Hardware</td>\n",
       "    </tr>\n",
       "    <tr>\n",
       "      <th>9</th>\n",
       "      <td>001-0671370/24</td>\n",
       "      <td>114680757</td>\n",
       "      <td>NaN</td>\n",
       "      <td>11/08/2024 12:00</td>\n",
       "      <td>11/08/2024 12:15</td>\n",
       "      <td>456</td>\n",
       "      <td>4</td>\n",
       "      <td>Short Ticket</td>\n",
       "      <td>SK</td>\n",
       "      <td>Completed</td>\n",
       "      <td>...</td>\n",
       "      <td>11/08/2024 12:00</td>\n",
       "      <td>NaN</td>\n",
       "      <td>NaN</td>\n",
       "      <td>11/08/2024 12:00</td>\n",
       "      <td>NaN</td>\n",
       "      <td>NaN</td>\n",
       "      <td>NaN</td>\n",
       "      <td>NaN</td>\n",
       "      <td>NaN</td>\n",
       "      <td>Hardware</td>\n",
       "    </tr>\n",
       "    <tr>\n",
       "      <th>12</th>\n",
       "      <td>001-0671179/24</td>\n",
       "      <td>114680576</td>\n",
       "      <td>NaN</td>\n",
       "      <td>11/09/2024 11:00</td>\n",
       "      <td>11/09/2024 11:30</td>\n",
       "      <td>456</td>\n",
       "      <td>4</td>\n",
       "      <td>Short Ticket</td>\n",
       "      <td>SK</td>\n",
       "      <td>Completed</td>\n",
       "      <td>...</td>\n",
       "      <td>11/09/2024 11:00</td>\n",
       "      <td>NaN</td>\n",
       "      <td>NaN</td>\n",
       "      <td>11/09/2024 11:00</td>\n",
       "      <td>NaN</td>\n",
       "      <td>NaN</td>\n",
       "      <td>NaN</td>\n",
       "      <td>NaN</td>\n",
       "      <td>NaN</td>\n",
       "      <td>Hardware</td>\n",
       "    </tr>\n",
       "    <tr>\n",
       "      <th>14</th>\n",
       "      <td>001-0671180/24</td>\n",
       "      <td>114680577</td>\n",
       "      <td>NaN</td>\n",
       "      <td>11/10/2024 11:00</td>\n",
       "      <td>11/10/2024 11:30</td>\n",
       "      <td>789</td>\n",
       "      <td>2</td>\n",
       "      <td>Short Ticket</td>\n",
       "      <td>SK</td>\n",
       "      <td>Completed</td>\n",
       "      <td>...</td>\n",
       "      <td>11/10/2024 11:00</td>\n",
       "      <td>NaN</td>\n",
       "      <td>NaN</td>\n",
       "      <td>11/10/2024 11:00</td>\n",
       "      <td>NaN</td>\n",
       "      <td>NaN</td>\n",
       "      <td>NaN</td>\n",
       "      <td>NaN</td>\n",
       "      <td>NaN</td>\n",
       "      <td>Hardware</td>\n",
       "    </tr>\n",
       "    <tr>\n",
       "      <th>16</th>\n",
       "      <td>001-0670954/24</td>\n",
       "      <td>114680354</td>\n",
       "      <td>NaN</td>\n",
       "      <td>11/11/2024 08:00</td>\n",
       "      <td>11/11/2024 08:30</td>\n",
       "      <td>789</td>\n",
       "      <td>2</td>\n",
       "      <td>Short Ticket</td>\n",
       "      <td>SK</td>\n",
       "      <td>Completed</td>\n",
       "      <td>...</td>\n",
       "      <td>11/11/2024 08:00</td>\n",
       "      <td>NaN</td>\n",
       "      <td>NaN</td>\n",
       "      <td>11/11/2024 08:00</td>\n",
       "      <td>NaN</td>\n",
       "      <td>NaN</td>\n",
       "      <td>NaN</td>\n",
       "      <td>NaN</td>\n",
       "      <td>NaN</td>\n",
       "      <td>Hardware</td>\n",
       "    </tr>\n",
       "    <tr>\n",
       "      <th>17</th>\n",
       "      <td>001-0671371/24</td>\n",
       "      <td>114680758</td>\n",
       "      <td>NaN</td>\n",
       "      <td>11/11/2024 10:00</td>\n",
       "      <td>11/11/2024 10:15</td>\n",
       "      <td>789</td>\n",
       "      <td>2</td>\n",
       "      <td>Short Ticket</td>\n",
       "      <td>SK</td>\n",
       "      <td>Completed</td>\n",
       "      <td>...</td>\n",
       "      <td>11/11/2024 10:00</td>\n",
       "      <td>NaN</td>\n",
       "      <td>NaN</td>\n",
       "      <td>11/11/2024 10:00</td>\n",
       "      <td>NaN</td>\n",
       "      <td>NaN</td>\n",
       "      <td>NaN</td>\n",
       "      <td>NaN</td>\n",
       "      <td>NaN</td>\n",
       "      <td>Hardware</td>\n",
       "    </tr>\n",
       "  </tbody>\n",
       "</table>\n",
       "<p>10 rows × 39 columns</p>\n",
       "</div>"
      ],
      "text/plain": [
       "      ORDER_NUMBER   ORDER_ID  ORDER_UNIT_ID   ACCEPTANCE_TIME  \\\n",
       "0   001-0671177/24  114680574            NaN  11/05/2024 11:00   \n",
       "2   001-0670952/24  114680352            NaN  11/06/2024 08:00   \n",
       "3   001-0671369/24  114680756            NaN  11/06/2024 10:00   \n",
       "6   001-0671178/24  114680575            NaN  11/07/2024 11:00   \n",
       "8   001-0670953/24  114680353            NaN  11/08/2024 10:00   \n",
       "9   001-0671370/24  114680757            NaN  11/08/2024 12:00   \n",
       "12  001-0671179/24  114680576            NaN  11/09/2024 11:00   \n",
       "14  001-0671180/24  114680577            NaN  11/10/2024 11:00   \n",
       "16  001-0670954/24  114680354            NaN  11/11/2024 08:00   \n",
       "17  001-0671371/24  114680758            NaN  11/11/2024 10:00   \n",
       "\n",
       "     COMPLETION_TIME  CUSTOMER_NUMBER  CUSTOMER_COUNT    ORDER_TYPE  \\\n",
       "0   11/05/2024 11:30              123               3  Short Ticket   \n",
       "2   11/06/2024 08:30              123               3  Short Ticket   \n",
       "3   11/06/2024 10:15              123               3  Short Ticket   \n",
       "6   11/07/2024 11:30              123               3  Short Ticket   \n",
       "8   11/08/2024 10:30              456               4  Short Ticket   \n",
       "9   11/08/2024 12:15              456               4  Short Ticket   \n",
       "12  11/09/2024 11:30              456               4  Short Ticket   \n",
       "14  11/10/2024 11:30              789               2  Short Ticket   \n",
       "16  11/11/2024 08:30              789               2  Short Ticket   \n",
       "17  11/11/2024 10:15              789               2  Short Ticket   \n",
       "\n",
       "   ORDER_CLASS PROCESSING_STATUS  ... ACCEPTANCE_TIME_MINIMUM  \\\n",
       "0           SK         Completed  ...        11/05/2024 11:00   \n",
       "2           SK         Completed  ...        11/06/2024 08:00   \n",
       "3           SK         Completed  ...        11/06/2024 10:00   \n",
       "6           SK         Completed  ...        11/07/2024 11:00   \n",
       "8           SK         Completed  ...        11/08/2024 10:00   \n",
       "9           SK         Completed  ...        11/08/2024 12:00   \n",
       "12          SK         Completed  ...        11/09/2024 11:00   \n",
       "14          SK         Completed  ...        11/10/2024 11:00   \n",
       "16          SK         Completed  ...        11/11/2024 08:00   \n",
       "17          SK         Completed  ...        11/11/2024 10:00   \n",
       "\n",
       "   ASSIGNMENT_TIME_MINIMUM IMIL_TIME_MINIMUM CUSTOMER_TIME_MINIMUM  \\\n",
       "0                      NaN               NaN      11/05/2024 11:00   \n",
       "2                      NaN               NaN      11/06/2024 08:00   \n",
       "3                      NaN               NaN      11/06/2024 10:00   \n",
       "6                      NaN               NaN      11/07/2024 11:00   \n",
       "8                      NaN               NaN      11/08/2024 10:00   \n",
       "9                      NaN               NaN      11/08/2024 12:00   \n",
       "12                     NaN               NaN      11/09/2024 11:00   \n",
       "14                     NaN               NaN      11/10/2024 11:00   \n",
       "16                     NaN               NaN      11/11/2024 08:00   \n",
       "17                     NaN               NaN      11/11/2024 10:00   \n",
       "\n",
       "   START_TIME_MINIMUM ASSIGNMENT_TIME ASSIGNED_BY_NAME  \\\n",
       "0                 NaN             NaN              NaN   \n",
       "2                 NaN             NaN              NaN   \n",
       "3                 NaN             NaN              NaN   \n",
       "6                 NaN             NaN              NaN   \n",
       "8                 NaN             NaN              NaN   \n",
       "9                 NaN             NaN              NaN   \n",
       "12                NaN             NaN              NaN   \n",
       "14                NaN             NaN              NaN   \n",
       "16                NaN             NaN              NaN   \n",
       "17                NaN             NaN              NaN   \n",
       "\n",
       "   ASSIGNMENT_PROCESSING_STATUS ASSIGNMENT_ADDITIONAL_INFO   PRODUCT  \n",
       "0                           NaN                        NaN  Hardware  \n",
       "2                           NaN                        NaN  Hardware  \n",
       "3                           NaN                        NaN  Hardware  \n",
       "6                           NaN                        NaN  Hardware  \n",
       "8                           NaN                        NaN  Hardware  \n",
       "9                           NaN                        NaN  Hardware  \n",
       "12                          NaN                        NaN  Hardware  \n",
       "14                          NaN                        NaN  Hardware  \n",
       "16                          NaN                        NaN  Hardware  \n",
       "17                          NaN                        NaN  Hardware  \n",
       "\n",
       "[10 rows x 39 columns]"
      ]
     },
     "execution_count": 40,
     "metadata": {},
     "output_type": "execute_result"
    }
   ],
   "source": [
    "filtered_data.head(10)"
   ]
  },
  {
   "cell_type": "markdown",
   "id": "6deecc30",
   "metadata": {},
   "source": [
    "## **EDA**"
   ]
  },
  {
   "cell_type": "markdown",
   "id": "c4a46c48",
   "metadata": {},
   "source": [
    "#### **Number of Tickets per Product**\n",
    "- I'm trying to detect the product or category with highest number of tickets (that means highest number of promblems)"
   ]
  },
  {
   "cell_type": "code",
   "execution_count": null,
   "id": "fa0d4764",
   "metadata": {},
   "outputs": [
    {
     "data": {
      "text/plain": [
       "ORDER_DESCRIPTION_1\n",
       "Cable Router       13\n",
       "Internet            3\n",
       "Gigabit Option      3\n",
       "Video on Demand     2\n",
       "Smartcard           2\n",
       "HD Channel          2\n",
       "Kabelrouter         1\n",
       "CI-Modul            1\n",
       "Sender              1\n",
       "Kundenportal        1\n",
       "Movies              1\n",
       "Password            1\n",
       "Customer Portal     1\n",
       "Name: count, dtype: int64"
      ]
     },
     "execution_count": 41,
     "metadata": {},
     "output_type": "execute_result"
    }
   ],
   "source": [
    "filtered_data['ORDER_DESCRIPTION_1'].value_counts().sort_values(ascending=False)"
   ]
  },
  {
   "cell_type": "code",
   "execution_count": 42,
   "id": "c1e9bf5f",
   "metadata": {},
   "outputs": [
    {
     "data": {
      "text/plain": [
       "ORDER_DESCRIPTION_2\n",
       "WLAN                          10\n",
       "Internet                       3\n",
       "kein Empfang                   2\n",
       "kein Zugriff                   2\n",
       "Not Booked                     1\n",
       "langsam                        1\n",
       "Aktivierung fehlgeschlagen     1\n",
       "Slow                           1\n",
       "Not Recognized                 1\n",
       "Blurred                        1\n",
       "Stuttering                     1\n",
       "Connection Unstable            1\n",
       "No Internet                    1\n",
       "No Access                      1\n",
       "Artifacts                      1\n",
       "Activation Delayed             1\n",
       "Error Message                  1\n",
       "Forgotten                      1\n",
       "Invoice Problem                1\n",
       "Name: count, dtype: int64"
      ]
     },
     "execution_count": 42,
     "metadata": {},
     "output_type": "execute_result"
    }
   ],
   "source": [
    "filtered_data['ORDER_DESCRIPTION_2'].value_counts().sort_values(ascending=False)"
   ]
  },
  {
   "cell_type": "code",
   "execution_count": 45,
   "id": "b9c9cd47",
   "metadata": {},
   "outputs": [
    {
     "data": {
      "text/plain": [
       "ORDER_DESCRIPTION_1\n",
       "Cable Router       11\n",
       "Internet            3\n",
       "Gigabit Option      3\n",
       "Video on Demand     2\n",
       "Smartcard           2\n",
       "HD Channel          2\n",
       "Kabelrouter         1\n",
       "CI-Modul            1\n",
       "Sender              1\n",
       "Kundenportal        1\n",
       "Movies              1\n",
       "Password            1\n",
       "Customer Portal     1\n",
       "Name: count, dtype: int64"
      ]
     },
     "execution_count": 45,
     "metadata": {},
     "output_type": "execute_result"
    }
   ],
   "source": [
    "filtered_data[filtered_data['ORDER_DESCRIPTION_3_MAXIMUM'].str.lower() != 'stable']['ORDER_DESCRIPTION_1'].value_counts().sort_values(ascending=False)"
   ]
  },
  {
   "cell_type": "markdown",
   "id": "b67a52a0",
   "metadata": {},
   "source": [
    "**Note**\n",
    "- Retrieved data shows many tickets with Cable Router products' issues, particularly with WLAN functionality\n",
    "- Multiple tickets indicate persistent WLAN connectivity problems\n",
    "\n",
    "**Recommendations**\n",
    "- I think the company should test the cabel router product.\n",
    "- If it was a hardware related issue\n",
    "    - Start to solve this hardware issue, abd release an new version of those routers\n",
    "    - For the users' effected, suggest to buy new released routers (for trust and non blams by the users, says \"that you as a company released new routers in the market with a strong specs, and beacuse you are an old customer, you can get it with the half of money and you can pay in installments over ... months.\") or if the company can bear the cost, it will be good to provide total free replacement.\n",
    "    - For the new customers that will buy the router, for sure the compny should to sell the new free-issues version\n",
    "- If it was non hardware issue that catched:\n",
    "    - Start to soving this issue.\n",
    "    - And advice the customer to use the cable or wired connection till soving this problem (i'm not sure if it's an applicable solution or alternative or it would work also, but i just say what i think according my current background about the issue that i face currently as a customer)"
   ]
  },
  {
   "cell_type": "code",
   "execution_count": null,
   "id": "79147528",
   "metadata": {},
   "outputs": [],
   "source": []
  }
 ],
 "metadata": {
  "kernelspec": {
   "display_name": "Python 3",
   "language": "python",
   "name": "python3"
  },
  "language_info": {
   "codemirror_mode": {
    "name": "ipython",
    "version": 3
   },
   "file_extension": ".py",
   "mimetype": "text/x-python",
   "name": "python",
   "nbconvert_exporter": "python",
   "pygments_lexer": "ipython3",
   "version": "3.11.9"
  }
 },
 "nbformat": 4,
 "nbformat_minor": 5
}
